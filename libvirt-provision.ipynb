{
 "cells": [
  {
   "cell_type": "markdown",
   "id": "c3932f4f-38e1-4b47-b9bd-e031688a18d3",
   "metadata": {
    "editable": true,
    "slideshow": {
     "slide_type": ""
    },
    "tags": []
   },
   "source": [
    "# Table of Contents\n",
    "1. [start](#start)\n",
    "2. [vars](#vars)"
   ]
  },
  {
   "cell_type": "markdown",
   "id": "6a3a134b-9001-412e-a0c0-ff80e737fe72",
   "metadata": {},
   "source": [
    "## Start provisioning <a name=\"start\"></a>"
   ]
  },
  {
   "cell_type": "code",
   "execution_count": 1,
   "id": "94ca1d8e-4ba7-4691-a1e2-b3c89a7eb9be",
   "metadata": {
    "editable": true,
    "slideshow": {
     "slide_type": ""
    },
    "tags": []
   },
   "outputs": [],
   "source": [
    "import time, os, random, string, sys, requests, urllib3, ipaddress\n",
    "urllib3.disable_warnings(category=urllib3.exceptions.InsecureRequestWarning)\n",
    "\n",
    "def prov_directory(prov):\n",
    " # create working directory\n",
    " command=f\"mkdir -p {prov}\"\n",
    " runcmd(command)\n",
    " os.chdir(prov)\n",
    "\n",
    "def runcmd(cmd):\n",
    "    command=str(cmd).replace('\\n','').replace('\\r','')\n",
    "    print(command) # quite mode? just comment this out.\n",
    "    output=!{command}\n",
    "    return(output)\n",
    "\n",
    "def provision(hostname, full_hostname, domainname, url, os_variant, uid, size, ram):\n",
    " # begin provisioning\n",
    " directory=\"/share/vms/disks/\"+uid+\"/\"\n",
    " prov_directory(directory)\n",
    " image=\"provisionme.iso\"\n",
    " open(str(directory+image), 'wb').write(requests.get(url, verify=False, headers={\"user-agent\": \"Provision me harder\"}, allow_redirects=True).content)\n",
    " command=\"qemu-img create -b \"+directory+image+\" -f qcow2 -F qcow2 \"+directory+full_hostname+\".img \"+size\n",
    " runcmd(command)\n",
    " command=\"\"\"echo \"instance-id: \"\"\"+uid+\"\"\" \\n local-hostname: \"\"\"+full_hostname+\"\"\" \" > meta-data\"\"\"\n",
    " runcmd(command)\n",
    " config=\"\"\"#cloud-config\n",
    "hostname: {uid}.{hostname}\n",
    "create_hostname_file: true\n",
    "fqdn: {full_hostname}\n",
    "prefer_fqdn_over_hostname: true\n",
    "package_update: true\n",
    "package_upgrade: true\n",
    "users:\n",
    "  - name: ansible\n",
    "    ssh_authorized_keys:\n",
    "        - ssh-ed25519 AAAAC3NzaC1lZDI1NTE5AAAAIC9+2bjed1kcBrQgCbgAYNaYxb+P7v0uZDMSBvnqvTZa\n",
    "    sudo: [\"ALL=(ALL) NOPASSWD:ALL\"]\n",
    "    groups: sudo\n",
    "    shell: /bin/bash\n",
    "packages:\n",
    "  - ncat\n",
    "  - curl\n",
    "  - git\n",
    "  - ansible\n",
    "  - wget\n",
    "  - nmap\n",
    "  - python3-pip\n",
    "  - podman\n",
    "  - qemu-system\n",
    "  - isc-dhcp-client\n",
    "  - snapd\n",
    "  - flatpak\n",
    "  - net-tools\n",
    "\"\"\".format(uid=uid, hostname=hostname, full_hostname=full_hostname)\n",
    " open('user-data','w').write(config)\n",
    " command=\"genisoimage -output cidata.iso -V cidata -r -J user-data meta-data\"\n",
    " runcmd(command)\n",
    " command=\"virt-install --virt-type qemu --name \"+full_hostname+\" --ram \"+ram+\" --disk \"+directory+full_hostname+\".img,format=qcow2 --network network=default --graphics vnc,listen=192.168.56.104 --noautoconsole --os-variant=\"+os_variant+\" --cdrom=\"+directory+\"cidata.iso --check all=off\"\n",
    " runcmd(command)\n",
    " cleanup(hostname, full_hostname, domainname, url, os_variant, uid, size, ram)\n",
    "\n",
    "def runWithAnsible(command, ipaddr):\n",
    "    # export part to prevent timeout while waiting for commands, mostly because relying on internet access sucks.\n",
    "    runcmd(\"\"\"export ANSIBLE_PERSISTENT_COMMAND_TIMEOUT=600; ansible all -i \"\"\"+ipaddr+\"\"\", -a '\"\"\"+command+\"\"\"' -u ansible\"\"\")\n",
    "\n",
    "def cleanup(hostname, full_hostname, domainname, url, os_variant, uid, size, ram):\n",
    " time.sleep(120) #let this get into the os before pushing shit\n",
    " command=\"echo \"+full_hostname\n",
    " print(runcmd(command)) # this was really just a test to see if it would run right, but it makes it easy to copy whats going on. \n",
    " command=\"virsh net-dhcp-leases default |grep -i \"+hostname+\"|awk '{print $5}'|awk -F '/' '{print $1}'\"\n",
    " ipaddr=str(runcmd(command))\n",
    " print(type(ipaddr))\n",
    " print(ipaddr)\n",
    " ipaddr=ipaddr[2:][:-2]\n",
    " print(ipaddr)\n",
    " try:\n",
    "     ipaddress.ip_address(ipaddr)\n",
    " except:\n",
    "     print(\"Something went wrong, can't find ip address\")\n",
    "     runcmd(\"virsh destroy \"+full_hostname)\n",
    "     runcmd(\"virsh undefine \"+full_hostname+\" --remove-all-storage\")\n",
    "     sys.exit(1)\n",
    " command=\"ssh-keyscan -H \"+ipaddr+\" >> ~/.ssh/known_hosts\"\n",
    " time.sleep(120)\n",
    " runcmd(command)\n",
    " # I should really migrate this over to my git repo as a playbook to grab and run locally, then simply run a command to initiate that, but until then, here's some adhoc commands. \n",
    " # this has proven to be a surprisingly stable way to run these though.\n",
    " for cmd in [\n",
    "     \"curl -fsSL https://get.docker.com -o /tmp/installdocker.sh\",\n",
    "     \"curl https://get.golang.org/linux -o /tmp/installgo.sh\",\n",
    "     \"sudo bash /tmp/installdocker.sh\",\n",
    "     \"sudo bash /tmp/installgo.sh\",\n",
    "     \"service docker start; service containerd start\",\n",
    "     \"sudo service snapd start\",\n",
    "     \"sudo snap install --classic kubectl\",\n",
    "     \"sudo snap install --classic kubeadm\", \n",
    "     \"sudo snap install --classic kubelet\",\n",
    "     \"sudo kubeadmin init\",\n",
    "     \"sudo pip install --upgrade jupyter-lab --break-system-packages --root-user-action=ignore\",\n",
    "     \"sudo cd /; sudo git clone https://github.com/ferasdour/automation_tools\"\n",
    " ]:\n",
    "     print(runWithAnsible(cmd, ipaddr))\n"
   ]
  },
  {
   "cell_type": "markdown",
   "id": "a175c508-edb5-48da-bb6d-13d2a9fa1707",
   "metadata": {},
   "source": [
    "## Set variables <a name=\"vars\"></a>"
   ]
  },
  {
   "cell_type": "code",
   "execution_count": 2,
   "id": "0f0df340-adef-4913-818a-f576e9df5927",
   "metadata": {
    "editable": true,
    "slideshow": {
     "slide_type": ""
    },
    "tags": []
   },
   "outputs": [
    {
     "name": "stdout",
     "output_type": "stream",
     "text": [
      "tmux new-session -d 'cd /share/vms/images/; python3 -m http.server -b 127.0.0.1 7070'\n",
      "mkdir -p /share/vms/disks/s2u7tpybwn/\n",
      "qemu-img create -b /share/vms/disks/s2u7tpybwn/provisionme.iso -f qcow2 -F qcow2 /share/vms/disks/s2u7tpybwn/s2u7tpybwn.ubuntu.prov.private.img 80G\n",
      "echo \"instance-id: s2u7tpybwn  local-hostname: s2u7tpybwn.ubuntu.prov.private \" > meta-data\n",
      "genisoimage -output cidata.iso -V cidata -r -J user-data meta-data\n",
      "virt-install --virt-type qemu --name s2u7tpybwn.ubuntu.prov.private --ram 6144 --disk /share/vms/disks/s2u7tpybwn/s2u7tpybwn.ubuntu.prov.private.img,format=qcow2 --network network=default --graphics vnc,listen=192.168.56.104 --noautoconsole --os-variant=ubuntu-stable-latest --cdrom=/share/vms/disks/s2u7tpybwn/cidata.iso --check all=off\n",
      "echo s2u7tpybwn.ubuntu.prov.private\n",
      "virsh net-dhcp-leases default |grep -i ubuntu|awk '{print $5}'|awk -F '/' '{print $1}'\n",
      "<class 'str'>\n",
      "['10.42.0.247']\n",
      "10.42.0.247\n",
      "ssh-keyscan -H 10.42.0.247 >> ~/.ssh/known_hosts\n",
      "export ANSIBLE_PERSISTENT_COMMAND_TIMEOUT=600; ansible all -i 10.42.0.247, -a 'curl -fsSL https://get.docker.com -o /tmp/installdocker.sh' -u ansible\n",
      "None\n",
      "export ANSIBLE_PERSISTENT_COMMAND_TIMEOUT=600; ansible all -i 10.42.0.247, -a 'curl https://get.golang.org/linux -o /tmp/installgo.sh' -u ansible\n",
      "None\n",
      "export ANSIBLE_PERSISTENT_COMMAND_TIMEOUT=600; ansible all -i 10.42.0.247, -a 'sudo bash /tmp/installdocker.sh' -u ansible\n",
      "None\n",
      "export ANSIBLE_PERSISTENT_COMMAND_TIMEOUT=600; ansible all -i 10.42.0.247, -a 'sudo bash /tmp/installgo.sh' -u ansible\n",
      "None\n",
      "export ANSIBLE_PERSISTENT_COMMAND_TIMEOUT=600; ansible all -i 10.42.0.247, -a 'service docker start; service containerd start' -u ansible\n",
      "None\n",
      "export ANSIBLE_PERSISTENT_COMMAND_TIMEOUT=600; ansible all -i 10.42.0.247, -a 'sudo service snapd start' -u ansible\n",
      "None\n",
      "export ANSIBLE_PERSISTENT_COMMAND_TIMEOUT=600; ansible all -i 10.42.0.247, -a 'sudo snap install --classic kubectl' -u ansible\n",
      "None\n",
      "export ANSIBLE_PERSISTENT_COMMAND_TIMEOUT=600; ansible all -i 10.42.0.247, -a 'sudo snap install --classic kubeadm' -u ansible\n",
      "None\n",
      "export ANSIBLE_PERSISTENT_COMMAND_TIMEOUT=600; ansible all -i 10.42.0.247, -a 'sudo snap install --classic kubelet' -u ansible\n",
      "None\n",
      "export ANSIBLE_PERSISTENT_COMMAND_TIMEOUT=600; ansible all -i 10.42.0.247, -a 'sudo kubeadmin init' -u ansible\n",
      "None\n",
      "export ANSIBLE_PERSISTENT_COMMAND_TIMEOUT=600; ansible all -i 10.42.0.247, -a 'sudo pip install --upgrade jupyter-lab --break-system-packages --root-user-action=ignore' -u ansible\n",
      "None\n",
      "export ANSIBLE_PERSISTENT_COMMAND_TIMEOUT=600; ansible all -i 10.42.0.247, -a 'sudo cd /; sudo git clone https://github.com/ferasdour/automation_tools' -u ansible\n",
      "None\n"
     ]
    }
   ],
   "source": [
    "\n",
    "# having some conflicts putting these into a function and it still being used with \n",
    "hostname=\"ubuntu\"\n",
    "domainname=\"prov\"\n",
    "domainname=domainname.split('.')[0] #primary part of domain\n",
    "f=filter(str.isalpha,hostname) #leave only alpha chars in hostname\n",
    "hostname=\"\".join(f)\n",
    "f=filter(str.isalpha,domainname) #Leave only alpha chars in domain name\n",
    "domainname=\"\".join(f)\n",
    "characters = string.ascii_lowercase + string.digitsnt(runWithAnsible(cmd, ipaddr))\n",
    "\n",
    "uid=''.join(random.sample(characters, 10))\n",
    "full_hostname=str(uid+\".\"+hostname+\".\"+domainname+\".private\") #set as .private | add uid (this is just to avoid having to chcek for collisions, bad code practice here\n",
    "url=\"http://127.0.0.1:7070/plucky-server-cloudimg-amd64.img\"\n",
    "os_variant=\"ubuntu-stable-latest\"\n",
    "size=\"80G\"\n",
    "ram=\"6144\"\n",
    "# i have to stop wasting network bandwidth downloading this over and over when testing, so I'm pointing to local system copy of it.\n",
    "runcmd(\"tmux new-session -d 'cd /share/vms/images/; python3 -m http.server -b 127.0.0.1 7070'\")\n",
    "provision(hostname, full_hostname, domainname, url, os_variant, uid, size, ram)"
   ]
  },
  {
   "cell_type": "code",
   "execution_count": null,
   "id": "48866b0c-5c91-48b7-9215-a31f97fe321d",
   "metadata": {},
   "outputs": [],
   "source": []
  }
 ],
 "metadata": {
  "kernelspec": {
   "display_name": "Python 3 (ipykernel)",
   "language": "python",
   "name": "python3"
  },
  "language_info": {
   "codemirror_mode": {
    "name": "ipython",
    "version": 3
   },
   "file_extension": ".py",
   "mimetype": "text/x-python",
   "name": "python",
   "nbconvert_exporter": "python",
   "pygments_lexer": "ipython3",
   "version": "3.13.2"
  }
 },
 "nbformat": 4,
 "nbformat_minor": 5
}
