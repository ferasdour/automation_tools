{
 "cells": [
  {
   "cell_type": "markdown",
   "id": "6218465e-3618-4b1f-804d-cf655b5cdde8",
   "metadata": {
    "editable": true,
    "slideshow": {
     "slide_type": ""
    },
    "tags": []
   },
   "source": [
    "# Table of Contents\n",
    "1. [start](#start)\n",
    "2. [vars](#vars)"
   ]
  },
  {
   "cell_type": "markdown",
   "id": "32b04299-ceb3-4872-ae94-e778021618ac",
   "metadata": {
    "editable": true,
    "slideshow": {
     "slide_type": ""
    },
    "tags": []
   },
   "source": [
    "## Start provisioning <a name=\"start\"></a>"
   ]
  },
  {
   "cell_type": "code",
   "execution_count": null,
   "id": "94ca1d8e-4ba7-4691-a1e2-b3c89a7eb9be",
   "metadata": {
    "editable": true,
    "slideshow": {
     "slide_type": ""
    },
    "tags": []
   },
   "outputs": [],
   "source": [
    "import time, os, random, string, sys, requests, urllib3\n",
    "urllib3.disable_warnings(category=urllib3.exceptions.InsecureRequestWarning)\n",
    "\n",
    "def prov_directory(prov):\n",
    " # create working directory\n",
    " command=f\"mkdir -p {prov}\"\n",
    " runcmd(command)\n",
    " os.chdir(prov)\n",
    "\n",
    "def runcmd(cmd):\n",
    "    command=str(cmd).replace('\\n','').replace('\\r','')\n",
    "    print(command)\n",
    "    output=!{command}\n",
    "    return(output)\n",
    "\n",
    "def provision(hostname, domainname, url, os_variant, size, ram):\n",
    " # setup steps (also check that everything is the right format after papermill)\n",
    " hostname=str(hostname)\n",
    " domainname=str(domainname)\n",
    " url=str(url)\n",
    " os_variant=str(os_variant)\n",
    " size=str(size)\n",
    " ran=str(ram)\n",
    " domainname=domainname.split('.')[0] #primary part of domain\n",
    " f=filter(str.isalpha,hostname) #leave only alpha chars in hostname\n",
    " hostname=\"\".join(f)\n",
    " f=filter(str.isalpha,domainname) #Leave only alpha chars in domain name\n",
    " domainname=\"\".join(f)\n",
    " characters = string.ascii_lowercase + string.digits\n",
    " uid=''.join(random.sample(characters, 10))\n",
    " full_hostname=str(uid+\".\"+hostname+\".\"+domainname+\".private\") #set as .private | add uid (this is just to avoid having to chcek for collisions, bad code practice here\n",
    " # begin provisioning\n",
    " directory=str(\"/share/vms/disks/\"+uid+\"/\")\n",
    " prov_directory(directory)\n",
    " image=\"provisionme.iso\"\n",
    " open(str(directory+image), 'wb').write(requests.get(url, verify=False, headers={\"user-agent\": \"Provision me harder\"}, allow_redirects=True).content)\n",
    " command=\"qemu-img create -b \"+directory+image+\" -f qcow2 -F qcow2 \"+directory+full_hostname+\".img \"+size\n",
    " runcmd(command)\n",
    " command=\"\"\"echo \"instance-id: \"\"\"+uid+\"\"\" \\n local-hostname: \"\"\"+full_hostname+\"\"\" \" > meta-data\"\"\"\n",
    " runcmd(command)\n",
    " config=\"\"\"#cloud-config\n",
    "hostname: {uid}.{hostname}\n",
    "create_hostname_file: true\n",
    "fqdn: {full_hostname}\n",
    "prefer_fqdn_over_hostname: true\n",
    "package_update: true\n",
    "package_upgrade: false\n",
    "timezone: America/Chicago\n",
    "users:\n",
    "  - name: ansible\n",
    "    ssh_authorized_keys:\n",
    "      - ssh-rsa AAAAB3NzaC1yc2EAAAADAQABAAABgQCr74xX7HTaoiY9gwjxOkmRgW/YYhz2nST4o08HYb0WuJqqk1itxP5y72EfapJhA7Juz/WQJ/8WnF5UUz5CKJJkewsOEH0ZdqTpFQFEazt/SiCdXGaeqHASv4ygHC/vWA5nJJqqs9i87wM0ItTIZfIeRubIezRpmYzuiPX4EtkPySuGa1EbvxsDKbyj59yl1KwLVGtT7Jb1iU5Fd/1BaWC/pvqJVwWjJxlc3rfP1+sRQVk2gm8lloobdSHnb1OAvIbl1dTZt4fLQ6VAJdnGJ9kA1JkpF3fUuMxZzWeVLAP3biJgyqLfDWK59Qv9X81FsLd7fAfKF5XZY7HzFUg/rJY2GAX40tNvfomYFBgQk3NOearDziYAQfCcB4uiOY93yeiNazJbfR9+e1SypLPXGcNlGvcEJdhXUoiFoDkSUNKhTKCFDpHwjNRafiGjsdwpIL5kv9jy08vtxIZU7YX6dRacm388WQE+Om5V2501cQdXkBl7NXJ8OAzcbz7Ny6qSvg0=\n",
    "    sudo: [\"ALL=(ALL) NOPASSWD:ALL\"]\n",
    "    groups: sudo\n",
    "    shell: /bin/bash\n",
    "packages:\n",
    "  - curl\n",
    "  - git\n",
    "  - ansible\n",
    "  - python3\n",
    "runcmd:\n",
    "  - curl -sSL https://bootstrap.pypa.io/get-pip.py -o /tmp/get-pip.py\n",
    "  - python3 /tmp/get-pip.py --break-system-packages --root-user-action ignore\n",
    "  - pip install --upgrade --break-system-packages pip pipenv\n",
    "phone_home: \n",
    "    post: all\n",
    "    url: 'http://10.42.0.1/?completed=$INSTANCE_ID'\n",
    "\"\"\".format(uid=uid, hostname=hostname, full_hostname=full_hostname)\n",
    " # docker exec -it kali-0 msfconsole -q -x \"handler -H 10.42.0.1 -P 9999 -p linux/x64/shell_reverse_tcp\"\n",
    " open('user-data','w').write(config)\n",
    " command=\"genisoimage -output cidata.iso -V cidata -r -J user-data meta-data\"\n",
    " runcmd(command)\n",
    " command=\"virt-install --virt-type qemu --name \"+str(full_hostname)+\" --ram \"+str(ram)+\" --disk \"+str(directory)+str(full_hostname)+\".img,format=qcow2 --network network=default --graphics vnc,listen=10.42.0.1 --noautoconsole --os-variant=\"+str(os_variant)+\" --cdrom=\"+str(directory)+\"cidata.iso --check all=off\"\n",
    " runcmd(command)\n",
    " cleanup(hostname, full_hostname, domainname, url, os_variant, uid, size, ram)\n",
    "\n",
    "def cleanup(hostname, full_hostname, domainname, url, os_variant, uid, size, ram):\n",
    " command=\"echo \"+hostname\n",
    " runcmd(command)\n",
    " # without this sleep, sometimes dhcp assignment isn't completed\n",
    " time.sleep(300)\n",
    " command=\"virsh domifaddr \"+full_hostname+\"|grep -owE '[0-9\\.]{7,20}'\"\n",
    " ipaddr=str(runcmd(command))\n",
    " ipaddr=ipaddr[1:][:-1]\n",
    " print(\"IP ADDRESS: \"+str(ipaddr))\n",
    " command=\"ssh-keyscan -H \"+ipaddr+\" >> ~/.ssh/known_hosts\"\n",
    " runcmd(command)\n",
    " time.sleep(30)\n",
    " # Test ansible responsive, and validate completion\n",
    " command=\"\"\"ansible all -i \"\"\"+ipaddr+\"\"\", -a \"cloud-init status --wait\" -u ansible -e 'wait=true' \"\"\"\n",
    " runcmd(command)\n"
   ]
  },
  {
   "cell_type": "markdown",
   "id": "a175c508-edb5-48da-bb6d-13d2a9fa1707",
   "metadata": {
    "editable": true,
    "slideshow": {
     "slide_type": ""
    },
    "tags": []
   },
   "source": [
    "## Set variables <a name=\"vars\"></a>"
   ]
  },
  {
   "cell_type": "code",
   "execution_count": null,
   "id": "0f0df340-adef-4913-818a-f576e9df5927",
   "metadata": {
    "editable": true,
    "slideshow": {
     "slide_type": ""
    },
    "tags": [
     "parameters"
    ]
   },
   "outputs": [],
   "source": [
    "hostname=\"ubuntu\"\n",
    "domainname=\"prov\"\n",
    "# tmux new-session -d 'python3 -m http.server --directory /share/vms/isos/ 8000'\n",
    "url=\"http://10.42.0.1:8000/noble-server-cloudimg-amd64.img\"\n",
    "os_variant=\"ubuntu-stable-latest\"\n",
    "size=\"80G\"\n",
    "ram=\"2096\"\n",
    "# need to run AFTER this cell, because papermill injects after this, not in the middle of it."
   ]
  },
  {
   "cell_type": "code",
   "execution_count": null,
   "id": "07016e27-747d-49c2-8189-d68f1001cfae",
   "metadata": {
    "editable": true,
    "slideshow": {
     "slide_type": ""
    },
    "tags": []
   },
   "outputs": [],
   "source": [
    "provision(hostname, domainname, url, os_variant, size, ram)"
   ]
  }
 ],
 "metadata": {
  "kernelspec": {
   "display_name": "Python 3 (ipykernel)",
   "language": "python",
   "name": "python3"
  },
  "language_info": {
   "codemirror_mode": {
    "name": "ipython",
    "version": 3
   },
   "file_extension": ".py",
   "mimetype": "text/x-python",
   "name": "python",
   "nbconvert_exporter": "python",
   "pygments_lexer": "ipython3",
   "version": "3.10.12"
  }
 },
 "nbformat": 4,
 "nbformat_minor": 5
}
