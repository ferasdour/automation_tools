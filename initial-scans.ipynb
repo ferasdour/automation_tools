{
 "cells": [
  {
   "cell_type": "markdown",
   "id": "b89831d7-9e98-489f-a95a-6e362aceabb5",
   "metadata": {
    "editable": true,
    "slideshow": {
     "slide_type": ""
    },
    "tags": []
   },
   "source": [
    "# Table of Contents\n",
    "1. [start](#start)\n",
    "2. [pwd](#pwd)\n",
    "3. [dns-ldap](#dns-ldap)\n",
    "4. [recon](#recon)\n",
    "5. [rpc](rpc)\n",
    "6. [fuzz](#fuzz)\n",
    "7. [print](#print)"
   ]
  },
  {
   "cell_type": "markdown",
   "id": "5acf6c96-424e-4118-bda1-539c46fb86e5",
   "metadata": {
    "editable": true,
    "slideshow": {
     "slide_type": ""
    },
    "tags": []
   },
   "source": [
    "## Begin <a name=\"start\"></a>"
   ]
  },
  {
   "cell_type": "code",
   "execution_count": null,
   "id": "46f3a68b-2fc4-49dc-b258-eedc80c4f700",
   "metadata": {
    "editable": true,
    "slideshow": {
     "slide_type": ""
    },
    "tags": [
     "parameters"
    ]
   },
   "outputs": [],
   "source": [
    "# expected to run with papermill, so gonna do some additional santizing as i can\n",
    "input_data=\"10.13.37.14\""
   ]
  },
  {
   "cell_type": "code",
   "execution_count": null,
   "id": "85f846a3-6425-4006-a01a-6582136ca468",
   "metadata": {
    "editable": true,
    "slideshow": {
     "slide_type": ""
    },
    "tags": []
   },
   "outputs": [],
   "source": [
    "#papermill_description=Setup_target\n",
    "\n",
    "import netaddr, netifaces, pwn, time, re, validators\n",
    "from dns import resolver\n",
    "iplist = [netifaces.ifaddresses(i)[netifaces.AF_INET][0][\"addr\"] for i in netifaces.interfaces() if netifaces.AF_INET in netifaces.ifaddresses(i)]\n",
    "print(\"Local Interfaces:\")\n",
    "for i in iplist: \n",
    "    print(\"- \"+i)\n",
    "ip=\"\"\n",
    "Host=\"\"\n",
    "input_data=str(input_data)\n",
    "print(\"\\nTarget: \"+input_data+\"\\n\")\n",
    "try:\n",
    "    try:\n",
    "        # try to identify if this is a valid ip address\n",
    "#        print(netaddr.valid_ipv4(input_data))\n",
    "        if netaddr.valid_ipv4(input_data):\n",
    "            ip=input_data\n",
    "        elif netaddr.valid_ipv6(input_data):\n",
    "            ip=input_data\n",
    "        else:\n",
    "            ip=\"\"\n",
    "#        print(ip)\n",
    "    except:\n",
    "        print('not an ip address')\n",
    "    if ip == \"\":\n",
    "        # this case exists to resolve the domain name to provide both ip and host\n",
    "        try:\n",
    "            ip=resolver.resolve(input_data, \"A\").response.answer[0][0].address\n",
    "            print('ip = '+str(ip))\n",
    "            Host=str(input_data)\n",
    "        except:\n",
    "            print('host lookup failed')\n",
    "            # this would mean ip = \"\" and the input data isn't a resolvable name\n",
    "    else:\n",
    "        #this case is if ip exists, set host to default target name\n",
    "        #This was needed due to some cases creating stuff like vpn.10.10.10.10 which apparently works in curl but not most browsers\n",
    "        Host=str(\"target.local\")\n",
    "except:\n",
    "    print(\"put proper address\")\n",
    "    exit()\n",
    "    "
   ]
  },
  {
   "cell_type": "markdown",
   "id": "3c1ac36e-cd89-4ee6-9fd3-665243e1f8ad",
   "metadata": {
    "editable": true,
    "slideshow": {
     "slide_type": ""
    },
    "tags": []
   },
   "source": [
    "## Setup working directory <a name=\"pwd\"></a>"
   ]
  },
  {
   "cell_type": "code",
   "execution_count": null,
   "id": "f4142799-9e83-45de-9ce9-668f11aae33f",
   "metadata": {
    "editable": true,
    "slideshow": {
     "slide_type": ""
    },
    "tags": [
     "disstructure"
    ]
   },
   "outputs": [],
   "source": [
    "#papermill_description=SetupWorkingDirectory\n",
    "import re, requests, ldap3\n",
    "hostsString=ip+\" \"+Host\n",
    "!sed -i /{Host}/d /etc/hosts\n",
    "!echo {hostsString} >> /etc/hosts\n",
    "workingDir=\"/share/pentests/\"+str(input_data)\n",
    "!mkdir {workingDir} 2>/dev/null\n",
    "print(\"Changing directory to: \")\n",
    "%cd {workingDir}"
   ]
  },
  {
   "cell_type": "markdown",
   "id": "e18ad78a-839c-4abd-ad5c-3cba94b2fa5b",
   "metadata": {
    "editable": true,
    "slideshow": {
     "slide_type": ""
    },
    "tags": []
   },
   "source": [
    "## Check if either DNS or LDAP <a name=\"dns-ldap\"></a>"
   ]
  },
  {
   "cell_type": "code",
   "execution_count": null,
   "id": "90f355d6-d1a4-4417-837c-4e40cefb8982",
   "metadata": {
    "editable": true,
    "slideshow": {
     "slide_type": ""
    },
    "tags": [
     "dns"
    ]
   },
   "outputs": [],
   "source": [
    "#papermill_description=CheckDNS_and_LDAP\n",
    "# it seemed far quicker to just try it and see what happens, instead of finding if these ports exist first. may change later\n",
    "print(\"\\nChecking for dns and ldap\")\n",
    "try:\n",
    "    if Host != ip:\n",
    "        testdns=resolver.Resolver(configure=False)\n",
    "        testdns.nameservers=[ip]\n",
    "        testdns.resolve(Host, \"a\")\n",
    "except:\n",
    "    pass\n",
    "try:\n",
    "    !dnsrecon -r {ip}/32 -n {ip} >> self-dns-check\n",
    "    !dnsrecon -r {ip}/28 -n {ip} >> self-dns-check\n",
    "    !dnsrecon -r {ip}/24 -n {ip} >> self-dns-check\n",
    "    !dnsrecon -r 127.0.0.1/24 -n {ip} >> self-dns-check\n",
    "    !dnsrecon -d {Host} -a >> self-dns-check\n",
    "    !dnsrecon -d {Host} -D /share/pentests/wordlists/dns.txt >> self-dns-check\n",
    "except Exception as e:\n",
    "    #print(e)\n",
    "    print('--Likely not a dns server--')\n",
    "    !echo {ip} {Host} >> self-dns-check\n",
    "    pass\n",
    "try:\n",
    " server=ldap3.Server(ip, get_info=ldap3.ALL, port=389, use_ssl=False)\n",
    " connection=ldap3.Connection(server)\n",
    " connection.bind()\n",
    " dcinfo=server.info\n",
    " open(\"dcinfo.txt\",'w').write(str(dcinfo))\n",
    " print(\"DC Info: \\n\"+str(dcinfo))\n",
    " ldapHostname=!grep -i hostname dcinfo.txt -A1|grep -iv dnshostname|sed s/\"\\s\"//g\n",
    " ldapHostname=str(ldapHostname).replace(\"[\",\"\").replace(\"]\",\"\")\n",
    " print(ldapHostname)\n",
    " !echo \"[*]      A \"{ldapHostname}>> self-dns-check\n",
    "except Exception as e:\n",
    "    print(e)\n",
    "    print('--Likely not an ldap server--')\n",
    "    pass\n",
    "\n",
    "# If ldapHostname was defined, use it to re-write hosts.\n",
    "try:\n",
    " command=\"\"\"n=`awk -F \"\\t\" '{print $2}' self-dns-check |sort -u|grep -iv localhost|sed /^[[:space:]]*$/d|awk '{print $2}' |sed s/\\$/\" \"/g|tr -d '\\\\n'`; o=`grep -m1 \"\"\"+Host+\"\"\" /etc/hosts`; e=\"\"\"+ldapHostname+\"\"\"; sed \"s/$o/$o $n $e/g\" -i /etc/hosts\"\"\"\n",
    " !{command}\n",
    "except:\n",
    " pass"
   ]
  },
  {
   "cell_type": "markdown",
   "id": "1cd50f99-a474-49b6-b436-bfd114b2335f",
   "metadata": {
    "editable": true,
    "slideshow": {
     "slide_type": ""
    },
    "tags": []
   },
   "source": [
    "## Start recon <a name=\"recon\"></a>"
   ]
  },
  {
   "cell_type": "code",
   "execution_count": null,
   "id": "967532b6-711f-44fb-b124-91aec9061b55",
   "metadata": {
    "editable": true,
    "slideshow": {
     "slide_type": ""
    },
    "tags": [
     "nmap-whatweb"
    ]
   },
   "outputs": [],
   "source": [
    "#papermill_description=Nmap_and_whatweb\n",
    "print(\"Running nmap:\")\n",
    "!nmap -sS -sV -p1- -Pn -n --open -oA {Host}.nmap {ip} >/dev/null\n",
    "result=!grep -h http {Host}.nmap.nmap|grep -i \"open\"|awk -F \"/\" '{{print $$1}}'\n",
    "print(\"Web ports: \"+str(result))\n",
    "notwebresults=!grep -h open {Host}.nmap.nmap|grep -iv \"http\\|scan initiated\"|awk -F \"/\" '{{print $$1}}'\n",
    "print(\"Not web ports: \"+str(notwebresults))\n",
    "!cat {Host}.nmap.xml |jc --xml|jq . > {Host}-nmap.json\n",
    "print(\"\\nRunning whatweb:\")\n",
    "for port in result:\n",
    "    for test in [Host, ip]:\n",
    "        !whatweb http://{test}:$port >> whatweb-{Host} 2>/dev/null\n",
    "        !whatweb https://{test}:$port >> whatweb-{Host} 2>/dev/null\n",
    "!cat whatweb-{Host}\n",
    "print(\"\")"
   ]
  },
  {
   "cell_type": "markdown",
   "id": "bf52c507-3775-44bd-9734-26e93a4fa74c",
   "metadata": {},
   "source": [
    "## Check rpc <a name=\"rpc\"></a>"
   ]
  },
  {
   "cell_type": "code",
   "execution_count": null,
   "id": "0c06c98d-73c9-4bc7-a945-7b4c8508e234",
   "metadata": {},
   "outputs": [],
   "source": [
    "print(\"If msrpc, try rpcdump\")\n",
    "for each in notwebresults:\n",
    "    if each in ['135', '139', '443', '445', '593']:\n",
    "        !impacket-rpcdump -port {each} {ip} >> rpcinfo.log 2>/dev/null\n",
    "        !grep -i ncacn_ip_tcp rpcinfo.log |sort -u"
   ]
  },
  {
   "cell_type": "markdown",
   "id": "29871f04-32ef-4e18-b480-dc3472b7763a",
   "metadata": {
    "editable": true,
    "slideshow": {
     "slide_type": ""
    },
    "tags": []
   },
   "source": [
    "## Start Fuzz <a name=\"fuzz\"></a>"
   ]
  },
  {
   "cell_type": "code",
   "execution_count": null,
   "id": "3b8652fe-96ed-4250-9b20-7cf8c68f2c7c",
   "metadata": {
    "editable": true,
    "slideshow": {
     "slide_type": ""
    },
    "tags": [
     "fuff"
    ]
   },
   "outputs": [],
   "source": [
    "#papermill_description=Begin_Fuzzing\n",
    "def fuzzing():\n",
    "    for port in result:\n",
    "        for line in open(\"/etc/hosts\",\"r\").readlines():\n",
    "            if Host in line:\n",
    "                for name in set(str(line).replace(\"\\n\",\"\").split(\" \")):\n",
    "                    if validators.domain(name) or validators.ip_address.ipv4(name) or validators.ip_address.ipv6(name):\n",
    "                        #print(name+\":\"+port)\n",
    "                        try:\n",
    "                            if validators.domain(name):\n",
    "                                testname='.'.join(name.split('.')[-2:])\n",
    "                            else:\n",
    "                                testname=\"target.local\"\n",
    "                            check=requests.get('http://'+name+\":\"+port, timeout=20)\n",
    "                            length=str(len(check.content))\n",
    "                            if check.status_code: #check if http\n",
    "                                command=\"ffuf -s -v -u http://\"+name+\":\"+port+\"/FUZZ -recursion -w /share/pentests/wordlists/webcontent-top-10000.txt -o ffuf-\"+name+\"-\"+port+\"-http-log >/dev/null\"\n",
    "                                output=!{command}\n",
    "                                #print(output)\n",
    "                                command=\"ffuf -s -v -u http://\"+name+\":\"+port+\" -H 'Host: FUZZ.\"+name+\"' -w /share/pentests/wordlists/dns-top-10000.txt -o ffuf-\"+name+\"-\"+port+\"-dns-log >/dev/null\"\n",
    "                                output=!{command}\n",
    "                                #print(output)\n",
    "                                if name != ip: #instead of re-checking that it's an ip, just check to make sure an ip wasn't pulled from hosts (a situation that happens when overwriting it wrong\n",
    "                                    command=\"ffuf -s -v -u http://\"+name+\":\"+port+\" -H 'Host: FUZZ.\"+testname+\"' -w /share/pentests/wordlists/dns-top-10000.txt -fs \"+length+\" -o ffuf-\"+testname+\"-\"+port+\"-dns-log >/dev/null\"\n",
    "                                    output=!{command}\n",
    "                                    #print(output)\n",
    "                            else: #just go ahead and try https, if this fails, it's irrelevant to put into another if clause\n",
    "                                command=\"ffuf -s -v -u https://\"+name+\":\"+port+\"/FUZZ -recursion -w /share/pentests/wordlists/webcontent-top-10000.txt -o ffuf-\"+name+\"-\"+port+\"-http-log >/dev/null\"\n",
    "                                output=!{command}\n",
    "                                #print(output)\n",
    "                                command=\"ffuf -s -v -u https://\"+name+\":\"+port+\" -H 'Host: FUZZ.\"+name+\"' -w /share/pentests/wordlists/dns-top-10000.txt -o ffuf-\"+name+\"-\"+port+\"-dns-log >/dev/null\"\n",
    "                                output=!{command}\n",
    "                                #print(output)\n",
    "                                if name != ip: #instead of re-checking that it's an ip, just check to make sure an ip wasn't pulled from hosts (a situation that happens when overwriting it wrong\n",
    "                                    command=\"ffuf -s -v -u https://\"+name+\":\"+port+\" -H 'Host: FUZZ.\"+testname+\"' -w /share/pentests/wordlists/dns-top-10000.txt -fs \"+length+\" -o ffuf-\"+testname+\"-\"+port+\"-dns-log >/dev/null\"\n",
    "                                    output=!{command}\n",
    "                                    #print(output)\n",
    "                        except Exception as e: \n",
    "                            #print(e)\n",
    "                            pass\n",
    "                break\n",
    "\n",
    "def wordpress(url):\n",
    "    !docker exec -it kali-0 wpscan --random-user-agent --detection-mode aggressive --plugins-detection aggressive -t 20 -P /data/wordlists/SecLists/Passwords/2023-200_most_used_passwords.txt -e dbe,ap,at,tt,cb,u,m --url {url} >> wpscan\n",
    "\n",
    "print(\"\\nBegin fuzzing:\")\n",
    "fuzzing()\n",
    "command=\"\"\"n=`awk -F \"\\t\" '{print $2}' self-dns-check |sort -u|grep -iv localhost|sed /^[[:space:]]*$/d|awk '{print $2}' |sed s/\"$\"/\" \"/g|tr -d '\\\\n'`; o=`grep -m1 \"\"\"+Host+\"\"\" /etc/hosts`; e=`cat ffuf-*-dns-log|jq -c '.results[] | {url:.url,host:.host,status:.status,length:.length}|map(.)'|awk -F ',' '!s[$4]++' |awk -F '\"' '{print $4}'|sort|uniq |sed s/\"$\"/\" \"/g|tr -d '\\\\n'`; sed \"s/$o/$o $n $e/g\" -i /etc/hosts; grep \"\"\"+Host+\"\"\" /etc/hosts\"\"\"\n",
    "output=!{command}\n",
    "data=[]\n",
    "for i in output:\n",
    "    for o in i.split(' '):\n",
    "        data.append(o)\n",
    "print(\"Found domain results\")\n",
    "for each in set(data):\n",
    "    if each != \"\" and each != \"\\n\":\n",
    "        print(each)\n",
    "fuzzing()\n",
    "print(\"Unique length: \")\n",
    "!cat ffuf*dns*log |jq -c '.results[] | {size: .length}'|sort -u\n",
    "time.sleep(2)\n",
    "command=\"\"\"for each in `ls ffuf-*`; do cat $each | jq -c '.results[] | {url:.url,status: .status}'; done|sort -u|grep -i 'status\":200' \"\"\"\n",
    "output=!{command}\n",
    "print(\"Found working urls:\")\n",
    "for each in re.findall(\"://www.([\\w\\-\\.]+)\", str(output)):\n",
    "    print(each)\n",
    "    if \"wp-\" in each:\n",
    "        wordpress(each.split(\"/\")[2])"
   ]
  },
  {
   "cell_type": "markdown",
   "id": "023cb5b0-8ebd-45c3-902f-88274a2c19c9",
   "metadata": {
    "editable": true,
    "slideshow": {
     "slide_type": ""
    },
    "tags": []
   },
   "source": [
    "## Use fuzz results to crawl <a name=\"print\"></a>"
   ]
  },
  {
   "cell_type": "code",
   "execution_count": null,
   "id": "f24bc446-503f-4b0d-af8f-0e8465f3122f",
   "metadata": {
    "editable": true,
    "slideshow": {
     "slide_type": ""
    },
    "tags": []
   },
   "outputs": [],
   "source": [
    "#papermill_description=CrawlUrlList\n",
    "print(\"Crawled urls:\")\n",
    "!cat ffuf-*-log |jq \".results[] |.url, .input.FUZZ, .status\"|sed 'N;N;s/\\n/ /g' |sed s/'\" \"'/'\\/'/g|sed s/'\"'//g|grep -i \"200\\|301\" |awk '{print $1}'|sort -u >> urls1.txt\n",
    "!cat urls1.txt |  docker exec -w /data/{str(input_data)}/ -i kali-0 gospider -S /dev/stdin --sitemap --robots -d 900 -c 10 -t 10 -w -o ./crawled0urls 2>&1 >/dev/null\n",
    "!cat crawled0urls/* |sort -u"
   ]
  }
 ],
 "metadata": {
  "kernelspec": {
   "display_name": "Python 3 (ipykernel)",
   "language": "python",
   "name": "python3"
  },
  "language_info": {
   "codemirror_mode": {
    "name": "ipython",
    "version": 3
   },
   "file_extension": ".py",
   "mimetype": "text/x-python",
   "name": "python",
   "nbconvert_exporter": "python",
   "pygments_lexer": "ipython3",
   "version": "3.10.12"
  }
 },
 "nbformat": 4,
 "nbformat_minor": 5
}
