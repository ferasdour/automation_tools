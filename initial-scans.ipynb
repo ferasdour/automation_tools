{
 "cells": [
  {
   "cell_type": "markdown",
   "id": "b89831d7-9e98-489f-a95a-6e362aceabb5",
   "metadata": {
    "editable": true,
    "slideshow": {
     "slide_type": ""
    },
    "tags": []
   },
   "source": [
    "# Table of Contents\n",
    "1. [notes](#notes)\n",
    "2. [start](#start)\n",
    "3. [pwd](#pwd)\n",
    "4. [dns-ldap](#dns-ldap)\n",
    "5. [recon](#recon)\n",
    "6. [fuzz](#fuzz)\n",
    "7. [print](#print)"
   ]
  },
  {
   "cell_type": "markdown",
   "id": "2524df6f-da6d-4bf3-8151-914714de1a8c",
   "metadata": {
    "editable": true,
    "slideshow": {
     "slide_type": ""
    },
    "tags": [
     "hide-input"
    ]
   },
   "source": [
    "# Notes <a name=\"notes\"></a>\n",
    "## Tools\n",
    "### CyberChef\n",
    "```\n",
    "https://gchq.github.io/CyberChef/\n",
    "```\n",
    "### Javascript Deobfuscate\n",
    "```\n",
    "docker run -d --rm --name jsdetox -p 3000:3000 remnux/jsdetox\n",
    "docker run -d --rm -p 4000:4000 -p 35729:35729 --name de4js remnux/de4js\n",
    "```\n",
    "### JWT\n",
    "```\n",
    "docker run -it --network \"host\" --rm -v \"${PWD}:/tmp\" -v \"${HOME}/.jwt_tool:/root/.jwt_tool\" ticarpi/jwt_tool\n",
    "```\n",
    "### Podman vs docker\n",
    "```\n",
    "Just set podman as docker, then run normal docker commands.\n",
    "Since so many scripts rely on docker, just go ahead and map this over so it's not an issue, and podman can manage these\n",
    "alias docker='podman' \n",
    "```\n",
    "\n",
    "## LibVirt/Virtualization\n",
    "### Start local python server (to pull isos, instead of from other location)\n",
    "```\n",
    "python3 -m http.server --directory=/share/vms/isos/\n",
    "```\n",
    "### Create VM\n",
    "```\n",
    "papermill /share/public-git-repos/automation-tools/libvirt-provision.ipynb /dev/stdout -p hostname ubuntu -p domainname private -p url http://10.42.0.1:8000/noble-server-cloudimg-amd64.img -p os_variant ubuntu-stable-latest -p size 40G -p ram 2048\n",
    "```\n",
    "### Power on all stopped vms\n",
    "```\n",
    "for i in `virsh list --all|grep -i off|awk '{print $2}'`; do virsh start $i; done\n",
    "```\n",
    "### Stop and remove all vms\n",
    "```\n",
    "for i in `virsh list --all|grep -i .private|awk '{print $2}'`; do tmux new-session -d \"virsh destroy $i; sleep 300; virsh undefine $i --remove-all-storage\"; done 2>/dev/null\n",
    "```\n",
    "### Get dhcp lease information of vms\n",
    "```\n",
    "virsh net-dhcp-leases default\n",
    "```\n",
    "### uptime check\n",
    "```\n",
    "nmap -sS -p22 --open -Pn -n `ip address show dev $(virsh net-info default|grep -i bridge |awk '{print $2}')|grep -i inet|awk '{print $2}'`|grep -i \"report for\" |awk '{print $5}' > /tmp/virtnmap; for i in `cat /tmp/virtnmap`; do ssh-keyscan -H $i > ~/.ssh/known_hosts 2>/dev/null; ansible $i -i /tmp/virtnmap -a \"uptime\" -T 30 -u ansible -b; done\n",
    "```\n"
   ]
  },
  {
   "cell_type": "markdown",
   "id": "5acf6c96-424e-4118-bda1-539c46fb86e5",
   "metadata": {
    "editable": true,
    "slideshow": {
     "slide_type": ""
    },
    "tags": []
   },
   "source": [
    "## Begin <a name=\"start\"></a>"
   ]
  },
  {
   "cell_type": "code",
   "execution_count": null,
   "id": "46f3a68b-2fc4-49dc-b258-eedc80c4f700",
   "metadata": {
    "editable": true,
    "slideshow": {
     "slide_type": ""
    },
    "tags": [
     "parameters"
    ]
   },
   "outputs": [],
   "source": [
    "# expected to run with papermill, so gonna do some additional santizing as i can\n",
    "input_data=\"10.13.37.15\""
   ]
  },
  {
   "cell_type": "code",
   "execution_count": null,
   "id": "85f846a3-6425-4006-a01a-6582136ca468",
   "metadata": {
    "editable": true,
    "slideshow": {
     "slide_type": ""
    },
    "tags": []
   },
   "outputs": [],
   "source": [
    "#papermill_description=Setup_target\n",
    "\n",
    "import netaddr, netifaces, pwn\n",
    "from dns import resolver\n",
    "iplist = [netifaces.ifaddresses(i)[netifaces.AF_INET][0][\"addr\"] for i in netifaces.interfaces() if netifaces.AF_INET in netifaces.ifaddresses(i)]\n",
    "print(\"Local Interfaces: \")\n",
    "for i in iplist: \n",
    "    print(i)\n",
    "ip=\"\"\n",
    "Host=\"\"\n",
    "input_data=str(input_data)\n",
    "print(\"Target: \"+input_data)\n",
    "try:\n",
    "    try:\n",
    "        # try to identify if this is a valid ip address\n",
    "#        print(netaddr.valid_ipv4(input_data))\n",
    "        if netaddr.valid_ipv4(input_data):\n",
    "            ip=input_data\n",
    "        elif netaddr.valid_ipv6(input_data):\n",
    "            ip=input_data\n",
    "        else:\n",
    "            ip=\"\"\n",
    "#        print(ip)\n",
    "    except:\n",
    "        print('not an ip address')\n",
    "    if ip == \"\":\n",
    "        # this case exists to resolve the domain name to provide both ip and host\n",
    "        try:\n",
    "            ip=resolver.resolve(input_data, \"A\").response.answer[0][0].address\n",
    "            print('ip = '+str(ip))\n",
    "            Host=str(input_data)\n",
    "        except:\n",
    "            print('host lookup failed')\n",
    "            # this would mean ip = \"\" and the input data isn't a resolvable name\n",
    "    else:\n",
    "        #this case is if ip exists, set host to ip address\n",
    "        Host=str(input_data)\n",
    "except:\n",
    "    print(\"put proper address\")\n",
    "    exit()\n",
    "    "
   ]
  },
  {
   "cell_type": "markdown",
   "id": "3c1ac36e-cd89-4ee6-9fd3-665243e1f8ad",
   "metadata": {
    "editable": true,
    "slideshow": {
     "slide_type": ""
    },
    "tags": []
   },
   "source": [
    "## Setup working directory <a name=\"pwd\"></a>"
   ]
  },
  {
   "cell_type": "code",
   "execution_count": null,
   "id": "f4142799-9e83-45de-9ce9-668f11aae33f",
   "metadata": {
    "editable": true,
    "slideshow": {
     "slide_type": ""
    },
    "tags": [
     "disstructure"
    ]
   },
   "outputs": [],
   "source": [
    "#papermill_description=SetupWorkingDirectory\n",
    "import re, requests, ldap3\n",
    "hostsString=ip+\" \"+Host\n",
    "!echo {hostsString} >> /etc/hosts\n",
    "workingDir=\"/share/pentests/\"+str(Host)\n",
    "!mkdir {workingDir}\n",
    "%cd {workingDir}"
   ]
  },
  {
   "cell_type": "markdown",
   "id": "e18ad78a-839c-4abd-ad5c-3cba94b2fa5b",
   "metadata": {
    "editable": true,
    "slideshow": {
     "slide_type": ""
    },
    "tags": []
   },
   "source": [
    "## Check if either DNS or LDAP <a name=\"dns-ldap\"></a>"
   ]
  },
  {
   "cell_type": "code",
   "execution_count": null,
   "id": "90f355d6-d1a4-4417-837c-4e40cefb8982",
   "metadata": {
    "editable": true,
    "slideshow": {
     "slide_type": ""
    },
    "tags": [
     "dns"
    ]
   },
   "outputs": [],
   "source": [
    "#papermill_description=CheckDNS_and_LDAP\n",
    "try:\n",
    "    if Host != ip:\n",
    "        testdns=resolver.Resolver(configure=False)\n",
    "        testdns.nameservers=[ip]\n",
    "        testdns.resolve(Host, \"a\")\n",
    "    !dnsrecon -r {ip}/32 -n {ip} > self-dns-check\n",
    "    !dnsrecon -r {ip}/28 -n {ip} >> self-dns-check\n",
    "    !dnsrecon -r {ip}/24 -n {ip} >> self-dns-check\n",
    "    !dnsrecon -r 127.0.0.1/24 -n {ip} >> self-dns-check\n",
    "    !dnsrecon -d {Host} -a >> self-dns-check\n",
    "    !dnsrecon -d {Host} -D /share/pentests/wordlists/dns.txt >> self-dns-check\n",
    "    command=\"\"\"n=`awk -F \"\\t\" '{print $2}' self-dns-check |sort -u|grep -iv localhost|sed /^[[:space:]]*$/d|awk '{print $2}' |sed s/\\$/\" \"/g|tr -d '\\\\n'`; o=`grep -m1 \"\"\"+Host+\"\"\" /etc/hosts`; e=`whatweb http://\"\"\"+Host+\"\"\" 2>&1|grep -i error|awk '{print $8}'|strings`; sed \"s/$o/$o $n $e/g\" -i /etc/hosts\"\"\"\n",
    "    !{command}\n",
    "except:\n",
    "    print('not a dns server')\n",
    "    pass\n",
    "try:\n",
    " server=ldap3.Server(ip, get_info=ldap3.ALL, port=389, use_ssl=False)\n",
    " connection=ldap3.Connection(server)\n",
    " connection.bind()\n",
    " dcinfo=server.info\n",
    " print(dcinfo)\n",
    "except:\n",
    "    print('likely not an ldap server')\n",
    "    pass"
   ]
  },
  {
   "cell_type": "markdown",
   "id": "1cd50f99-a474-49b6-b436-bfd114b2335f",
   "metadata": {
    "editable": true,
    "slideshow": {
     "slide_type": ""
    },
    "tags": []
   },
   "source": [
    "## Start recon <a name=\"recon\"></a>"
   ]
  },
  {
   "cell_type": "code",
   "execution_count": null,
   "id": "967532b6-711f-44fb-b124-91aec9061b55",
   "metadata": {
    "editable": true,
    "slideshow": {
     "slide_type": ""
    },
    "tags": [
     "nmap-whatweb"
    ]
   },
   "outputs": [],
   "source": [
    "#papermill_description=Nmap_and_whatweb\n",
    "!nmap -sS -sV -p1- -Pn -n --open -oA {Host}.nmap {ip}\n",
    "result=!grep -h http {Host}.nmap.nmap|grep -i \"open\"|awk -F \"/\" '{{print $$1}}'\n",
    "print(str(result))\n",
    "!cat {Host}.nmap.xml |jc --xml|jq . > {Host}-nmap.json\n",
    "for port in result:\n",
    "    !whatweb http://{Host}:$port >> whatweb-{Host}\n",
    "    !whatweb https://{Host}:$port >> whatweb-{Host}"
   ]
  },
  {
   "cell_type": "markdown",
   "id": "29871f04-32ef-4e18-b480-dc3472b7763a",
   "metadata": {
    "editable": true,
    "slideshow": {
     "slide_type": ""
    },
    "tags": []
   },
   "source": [
    "## Start Fuzz <a name=\"fuzz\"></a>"
   ]
  },
  {
   "cell_type": "code",
   "execution_count": null,
   "id": "3b8652fe-96ed-4250-9b20-7cf8c68f2c7c",
   "metadata": {
    "editable": true,
    "slideshow": {
     "slide_type": ""
    },
    "tags": [
     "fuff"
    ]
   },
   "outputs": [],
   "source": [
    "#papermill_description=Begin_Fuzzing\n",
    "def fuzzing():\n",
    "    for port in result:\n",
    "        for line in open(\"/etc/hosts\",\"r\").readlines():\n",
    "            if Host in line:\n",
    "                for name in set(str(line).replace(\"\\n\",\"\").split(\" \")):\n",
    "                    if \".\" in name:\n",
    "                        #print(name+\":\"+port)\n",
    "                        try:\n",
    "                            testname='.'.join(name.split('.')[-2:])\n",
    "                            check=requests.get('http://'+name+\":\"+port, timeout=20)\n",
    "                            length=str(len(check.content))\n",
    "                            if check.status_code: #check if http\n",
    "                                command=\"ffuf -s -v -u http://\"+name+\":\"+port+\"/FUZZ -w /share/pentests/wordlists/webcontent-top-10000.txt -o ffuf-\"+name+\"-\"+port+\"-http-log >/dev/null\"\n",
    "                                output=!{command}\n",
    "                                #print(output)\n",
    "                                command=\"ffuf -s -v -u http://\"+name+\":\"+port+\" -H 'Host: FUZZ.\"+name+\"' -w /share/pentests/wordlists/dns-top-10000.txt -o ffuf-\"+name+\"-\"+port+\"-dns-log >/dev/null\"\n",
    "                                output=!{command}\n",
    "                                #print(output)\n",
    "                                if name != ip: #instead of re-checking that it's an ip, just check to make sure an ip wasn't pulled from hosts (a situation that happens when overwriting it wrong\n",
    "                                    command=\"ffuf -s -v -u http://\"+name+\":\"+port+\" -H 'Host: FUZZ.\"+testname+\"' -w /share/pentests/wordlists/dns-top-10000.txt -fs \"+length+\" -o ffuf-\"+testname+\"-\"+port+\"-dns-log >/dev/null\"\n",
    "                                    output=!{command}\n",
    "                                    #print(output)\n",
    "                            else: #just go ahead and try https, if this fails, it's irrelevant to put into another if clause\n",
    "                                command=\"ffuf -s -v -u https://\"+name+\":\"+port+\"/FUZZ -w /share/pentests/wordlists/webcontent-top-10000.txt -o ffuf-\"+name+\"-\"+port+\"-http-log >/dev/null\"\n",
    "                                output=!{command}\n",
    "                                #print(output)\n",
    "                                command=\"ffuf -s -v -u https://\"+name+\":\"+port+\" -H 'Host: FUZZ.\"+name+\"' -w /share/pentests/wordlists/dns-top-10000.txt -o ffuf-\"+name+\"-\"+port+\"-dns-log >/dev/null\"\n",
    "                                output=!{command}\n",
    "                                #print(output)\n",
    "                                if name != ip: #instead of re-checking that it's an ip, just check to make sure an ip wasn't pulled from hosts (a situation that happens when overwriting it wrong\n",
    "                                    command=\"ffuf -s -v -u https://\"+name+\":\"+port+\" -H 'Host: FUZZ.\"+testname+\"' -w /share/pentests/wordlists/dns-top-10000.txt -fs \"+length+\" -o ffuf-\"+testname+\"-\"+port+\"-dns-log >/dev/null\"\n",
    "                                    output=!{command}\n",
    "                                    #print(output)\n",
    "                        except Exception as e: \n",
    "                            #print(e)\n",
    "                            pass\n",
    "                break\n",
    "fuzzing()\n",
    "command=\"\"\"n=`awk -F \"\\t\" '{print $2}' self-dns-check |sort -u|grep -iv localhost|sed /^[[:space:]]*$/d|awk '{print $2}' |sed s/\"$\"/\" \"/g|tr -d '\\\\n'`; o=`grep -m1 \"\"\"+Host+\"\"\" /etc/hosts`; e=`cat ffuf-*-dns-log|jq -c '.results[] | {url:.url,host:.host,status:.status,length:.length}|map(.)'|awk -F ',' '!s[$4]++' |awk -F '\"' '{print $4}'|sort|uniq |sed s/\"$\"/\" \"/g|tr -d '\\\\n'`; sed \"s/$o/$o $n $e/g\" -i /etc/hosts; grep \"\"\"+Host+\"\"\" /etc/hosts\"\"\"\n",
    "output=!{command}\n",
    "data=[]\n",
    "for i in output:\n",
    "    for o in i.split(' '):\n",
    "        data.append(o)\n",
    "print(set(data))\n",
    "fuzzing()\n",
    "command=\"\"\"for each in `ls ffuf-*`; do cat $each | jq -c '.results[] | {url:.url,status: .status}'; done|sort -u\"\"\"\n",
    "output=!{command}\n",
    "for i in output:\n",
    "    if \"200\" in i or \"300\" in i or \"302\" in i or \"503\" in i or \"302\" in i:\n",
    "        print(i)"
   ]
  },
  {
   "cell_type": "markdown",
   "id": "023cb5b0-8ebd-45c3-902f-88274a2c19c9",
   "metadata": {
    "editable": true,
    "slideshow": {
     "slide_type": ""
    },
    "tags": []
   },
   "source": [
    "## Use fuzz results to crawl <a name=\"print\"></a>"
   ]
  },
  {
   "cell_type": "code",
   "execution_count": null,
   "id": "f24bc446-503f-4b0d-af8f-0e8465f3122f",
   "metadata": {
    "editable": true,
    "slideshow": {
     "slide_type": ""
    },
    "tags": []
   },
   "outputs": [],
   "source": [
    "#papermill_description=CrawlUrlList\n",
    "!cat ffuf-*-log |jq \".results[] |.url, .input.FUZZ, .status\"|sed 'N;N;s/\\n/ /g' |sed s/'\" \"'/'\\/'/g|sed s/'\"'//g|grep -i \"200\\|301\" |awk '{print $1}'|sort -u |docker exec -i kali-0 hakrawler |sort -u -T ./"
   ]
  },
  {
   "cell_type": "code",
   "execution_count": null,
   "id": "b5eec0b7-95fd-49f2-9c45-865aaa3300d4",
   "metadata": {
    "editable": true,
    "slideshow": {
     "slide_type": ""
    },
    "tags": []
   },
   "outputs": [],
   "source": []
  }
 ],
 "metadata": {
  "kernelspec": {
   "display_name": "Python 3 (ipykernel)",
   "language": "python",
   "name": "python3"
  },
  "language_info": {
   "codemirror_mode": {
    "name": "ipython",
    "version": 3
   },
   "file_extension": ".py",
   "mimetype": "text/x-python",
   "name": "python",
   "nbconvert_exporter": "python",
   "pygments_lexer": "ipython3",
   "version": "3.10.12"
  }
 },
 "nbformat": 4,
 "nbformat_minor": 5
}
