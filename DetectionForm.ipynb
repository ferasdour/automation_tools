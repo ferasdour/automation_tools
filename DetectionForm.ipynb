{
 "cells": [
  {
   "cell_type": "code",
   "execution_count": 2,
   "id": "9269e20e-30d4-4828-b6ec-26d9592ed4be",
   "metadata": {
    "collapsed": true,
    "jupyter": {
     "outputs_hidden": true
    }
   },
   "outputs": [
    {
     "name": "stderr",
     "output_type": "stream",
     "text": [
      "WARNING: pip is being invoked by an old script wrapper. This will fail in a future version of pip.\n",
      "Please see https://github.com/pypa/pip/issues/5599 for advice on fixing the underlying issue.\n",
      "To avoid this problem you can invoke Python with '-m pip' instead of running pip directly.\n"
     ]
    },
    {
     "data": {
      "text/html": [
       "<pre style=\"white-space:pre;overflow-x:auto;line-height:normal;font-family:Menlo,'DejaVu Sans Mono',consolas,'Courier New',monospace\">Requirement already satisfied: IPython in c:\\users\\no_ne\\desktop\\git-repo\\.venv\\lib\\site-packages (8.28.0)\n",
       "</pre>\n"
      ],
      "text/plain": [
       "Requirement already satisfied: IPython in c:\\users\\no_ne\\desktop\\git-repo\\.venv\\lib\\site-packages (8.28.0)\n"
      ]
     },
     "metadata": {},
     "output_type": "display_data"
    },
    {
     "data": {
      "text/html": [
       "<pre style=\"white-space:pre;overflow-x:auto;line-height:normal;font-family:Menlo,'DejaVu Sans Mono',consolas,'Courier New',monospace\">Collecting IPython\n",
       "</pre>\n"
      ],
      "text/plain": [
       "Collecting IPython\n"
      ]
     },
     "metadata": {},
     "output_type": "display_data"
    },
    {
     "data": {
      "text/html": [
       "<pre style=\"white-space:pre;overflow-x:auto;line-height:normal;font-family:Menlo,'DejaVu Sans Mono',consolas,'Courier New',monospace\">  Downloading ipython-8.32.0-py3-none-any.whl.metadata (5.0 kB)\n",
       "</pre>\n"
      ],
      "text/plain": [
       "  Downloading ipython-8.32.0-py3-none-any.whl.metadata (5.0 kB)\n"
      ]
     },
     "metadata": {},
     "output_type": "display_data"
    },
    {
     "data": {
      "text/html": [
       "<pre style=\"white-space:pre;overflow-x:auto;line-height:normal;font-family:Menlo,'DejaVu Sans Mono',consolas,'Courier New',monospace\">Requirement already satisfied: ipywidgets in c:\\users\\no_ne\\desktop\\git-repo\\.venv\\lib\\site-packages (8.1.5)\n",
       "</pre>\n"
      ],
      "text/plain": [
       "Requirement already satisfied: ipywidgets in c:\\users\\no_ne\\desktop\\git-repo\\.venv\\lib\\site-packages (8.1.5)\n"
      ]
     },
     "metadata": {},
     "output_type": "display_data"
    },
    {
     "data": {
      "text/html": [
       "<pre style=\"white-space:pre;overflow-x:auto;line-height:normal;font-family:Menlo,'DejaVu Sans Mono',consolas,'Courier New',monospace\">Requirement already satisfied: colorama in c:\\users\\no_ne\\desktop\\git-repo\\.venv\\lib\\site-packages (from IPython) (0.4.6)\n",
       "</pre>\n"
      ],
      "text/plain": [
       "Requirement already satisfied: colorama in c:\\users\\no_ne\\desktop\\git-repo\\.venv\\lib\\site-packages (from IPython) (0.4.6)\n"
      ]
     },
     "metadata": {},
     "output_type": "display_data"
    },
    {
     "data": {
      "text/html": [
       "<pre style=\"white-space:pre;overflow-x:auto;line-height:normal;font-family:Menlo,'DejaVu Sans Mono',consolas,'Courier New',monospace\">Requirement already satisfied: decorator in c:\\users\\no_ne\\desktop\\git-repo\\.venv\\lib\\site-packages (from IPython) (5.1.1)\n",
       "</pre>\n"
      ],
      "text/plain": [
       "Requirement already satisfied: decorator in c:\\users\\no_ne\\desktop\\git-repo\\.venv\\lib\\site-packages (from IPython) (5.1.1)\n"
      ]
     },
     "metadata": {},
     "output_type": "display_data"
    },
    {
     "data": {
      "text/html": [
       "<pre style=\"white-space:pre;overflow-x:auto;line-height:normal;font-family:Menlo,'DejaVu Sans Mono',consolas,'Courier New',monospace\">Requirement already satisfied: jedi&gt;=0.16 in c:\\users\\no_ne\\desktop\\git-repo\\.venv\\lib\\site-packages (from IPython) (0.19.1)\n",
       "</pre>\n"
      ],
      "text/plain": [
       "Requirement already satisfied: jedi>=0.16 in c:\\users\\no_ne\\desktop\\git-repo\\.venv\\lib\\site-packages (from IPython) (0.19.1)\n"
      ]
     },
     "metadata": {},
     "output_type": "display_data"
    },
    {
     "data": {
      "text/html": [
       "<pre style=\"white-space:pre;overflow-x:auto;line-height:normal;font-family:Menlo,'DejaVu Sans Mono',consolas,'Courier New',monospace\">Requirement already satisfied: matplotlib-inline in c:\\users\\no_ne\\desktop\\git-repo\\.venv\\lib\\site-packages (from IPython) (0.1.7)\n",
       "</pre>\n"
      ],
      "text/plain": [
       "Requirement already satisfied: matplotlib-inline in c:\\users\\no_ne\\desktop\\git-repo\\.venv\\lib\\site-packages (from IPython) (0.1.7)\n"
      ]
     },
     "metadata": {},
     "output_type": "display_data"
    },
    {
     "data": {
      "text/html": [
       "<pre style=\"white-space:pre;overflow-x:auto;line-height:normal;font-family:Menlo,'DejaVu Sans Mono',consolas,'Courier New',monospace\">Requirement already satisfied: prompt_toolkit&lt;3.1.0,&gt;=3.0.41 in c:\\users\\no_ne\\desktop\\git-repo\\.venv\\lib\\site-packages (from IPython) (3.0.48)\n",
       "</pre>\n"
      ],
      "text/plain": [
       "Requirement already satisfied: prompt_toolkit<3.1.0,>=3.0.41 in c:\\users\\no_ne\\desktop\\git-repo\\.venv\\lib\\site-packages (from IPython) (3.0.48)\n"
      ]
     },
     "metadata": {},
     "output_type": "display_data"
    },
    {
     "data": {
      "text/html": [
       "<pre style=\"white-space:pre;overflow-x:auto;line-height:normal;font-family:Menlo,'DejaVu Sans Mono',consolas,'Courier New',monospace\">Requirement already satisfied: pygments&gt;=2.4.0 in c:\\users\\no_ne\\desktop\\git-repo\\.venv\\lib\\site-packages (from IPython) (2.18.0)\n",
       "</pre>\n"
      ],
      "text/plain": [
       "Requirement already satisfied: pygments>=2.4.0 in c:\\users\\no_ne\\desktop\\git-repo\\.venv\\lib\\site-packages (from IPython) (2.18.0)\n"
      ]
     },
     "metadata": {},
     "output_type": "display_data"
    },
    {
     "data": {
      "text/html": [
       "<pre style=\"white-space:pre;overflow-x:auto;line-height:normal;font-family:Menlo,'DejaVu Sans Mono',consolas,'Courier New',monospace\">Requirement already satisfied: stack_data in c:\\users\\no_ne\\desktop\\git-repo\\.venv\\lib\\site-packages (from IPython) (0.6.3)\n",
       "</pre>\n"
      ],
      "text/plain": [
       "Requirement already satisfied: stack_data in c:\\users\\no_ne\\desktop\\git-repo\\.venv\\lib\\site-packages (from IPython) (0.6.3)\n"
      ]
     },
     "metadata": {},
     "output_type": "display_data"
    },
    {
     "data": {
      "text/html": [
       "<pre style=\"white-space:pre;overflow-x:auto;line-height:normal;font-family:Menlo,'DejaVu Sans Mono',consolas,'Courier New',monospace\">Requirement already satisfied: traitlets&gt;=5.13.0 in c:\\users\\no_ne\\desktop\\git-repo\\.venv\\lib\\site-packages (from IPython) (5.14.3)\n",
       "</pre>\n"
      ],
      "text/plain": [
       "Requirement already satisfied: traitlets>=5.13.0 in c:\\users\\no_ne\\desktop\\git-repo\\.venv\\lib\\site-packages (from IPython) (5.14.3)\n"
      ]
     },
     "metadata": {},
     "output_type": "display_data"
    },
    {
     "data": {
      "text/html": [
       "<pre style=\"white-space:pre;overflow-x:auto;line-height:normal;font-family:Menlo,'DejaVu Sans Mono',consolas,'Courier New',monospace\">Requirement already satisfied: comm&gt;=0.1.3 in c:\\users\\no_ne\\desktop\\git-repo\\.venv\\lib\\site-packages (from ipywidgets) (0.2.2)\n",
       "</pre>\n"
      ],
      "text/plain": [
       "Requirement already satisfied: comm>=0.1.3 in c:\\users\\no_ne\\desktop\\git-repo\\.venv\\lib\\site-packages (from ipywidgets) (0.2.2)\n"
      ]
     },
     "metadata": {},
     "output_type": "display_data"
    },
    {
     "data": {
      "text/html": [
       "<pre style=\"white-space:pre;overflow-x:auto;line-height:normal;font-family:Menlo,'DejaVu Sans Mono',consolas,'Courier New',monospace\">Requirement already satisfied: widgetsnbextension~=4.0.12 in c:\\users\\no_ne\\desktop\\git-repo\\.venv\\lib\\site-packages (from ipywidgets) (4.0.13)\n",
       "</pre>\n"
      ],
      "text/plain": [
       "Requirement already satisfied: widgetsnbextension~=4.0.12 in c:\\users\\no_ne\\desktop\\git-repo\\.venv\\lib\\site-packages (from ipywidgets) (4.0.13)\n"
      ]
     },
     "metadata": {},
     "output_type": "display_data"
    },
    {
     "data": {
      "text/html": [
       "<pre style=\"white-space:pre;overflow-x:auto;line-height:normal;font-family:Menlo,'DejaVu Sans Mono',consolas,'Courier New',monospace\">Requirement already satisfied: jupyterlab-widgets~=3.0.12 in c:\\users\\no_ne\\desktop\\git-repo\\.venv\\lib\\site-packages (from ipywidgets) (3.0.13)\n",
       "</pre>\n"
      ],
      "text/plain": [
       "Requirement already satisfied: jupyterlab-widgets~=3.0.12 in c:\\users\\no_ne\\desktop\\git-repo\\.venv\\lib\\site-packages (from ipywidgets) (3.0.13)\n"
      ]
     },
     "metadata": {},
     "output_type": "display_data"
    },
    {
     "data": {
      "text/html": [
       "<pre style=\"white-space:pre;overflow-x:auto;line-height:normal;font-family:Menlo,'DejaVu Sans Mono',consolas,'Courier New',monospace\">Requirement already satisfied: parso&lt;0.9.0,&gt;=0.8.3 in c:\\users\\no_ne\\desktop\\git-repo\\.venv\\lib\\site-packages (from jedi&gt;=0.16-&gt;IPython) (0.8.4)\n",
       "</pre>\n"
      ],
      "text/plain": [
       "Requirement already satisfied: parso<0.9.0,>=0.8.3 in c:\\users\\no_ne\\desktop\\git-repo\\.venv\\lib\\site-packages (from jedi>=0.16->IPython) (0.8.4)\n"
      ]
     },
     "metadata": {},
     "output_type": "display_data"
    },
    {
     "data": {
      "text/html": [
       "<pre style=\"white-space:pre;overflow-x:auto;line-height:normal;font-family:Menlo,'DejaVu Sans Mono',consolas,'Courier New',monospace\">Requirement already satisfied: wcwidth in c:\\users\\no_ne\\desktop\\git-repo\\.venv\\lib\\site-packages (from prompt_toolkit&lt;3.1.0,&gt;=3.0.41-&gt;IPython) (0.2.13)\n",
       "</pre>\n"
      ],
      "text/plain": [
       "Requirement already satisfied: wcwidth in c:\\users\\no_ne\\desktop\\git-repo\\.venv\\lib\\site-packages (from prompt_toolkit<3.1.0,>=3.0.41->IPython) (0.2.13)\n"
      ]
     },
     "metadata": {},
     "output_type": "display_data"
    },
    {
     "data": {
      "text/html": [
       "<pre style=\"white-space:pre;overflow-x:auto;line-height:normal;font-family:Menlo,'DejaVu Sans Mono',consolas,'Courier New',monospace\">Requirement already satisfied: executing&gt;=1.2.0 in c:\\users\\no_ne\\desktop\\git-repo\\.venv\\lib\\site-packages (from stack_data-&gt;IPython) (2.1.0)\n",
       "</pre>\n"
      ],
      "text/plain": [
       "Requirement already satisfied: executing>=1.2.0 in c:\\users\\no_ne\\desktop\\git-repo\\.venv\\lib\\site-packages (from stack_data->IPython) (2.1.0)\n"
      ]
     },
     "metadata": {},
     "output_type": "display_data"
    },
    {
     "data": {
      "text/html": [
       "<pre style=\"white-space:pre;overflow-x:auto;line-height:normal;font-family:Menlo,'DejaVu Sans Mono',consolas,'Courier New',monospace\">Requirement already satisfied: asttokens&gt;=2.1.0 in c:\\users\\no_ne\\desktop\\git-repo\\.venv\\lib\\site-packages (from stack_data-&gt;IPython) (2.4.1)\n",
       "</pre>\n"
      ],
      "text/plain": [
       "Requirement already satisfied: asttokens>=2.1.0 in c:\\users\\no_ne\\desktop\\git-repo\\.venv\\lib\\site-packages (from stack_data->IPython) (2.4.1)\n"
      ]
     },
     "metadata": {},
     "output_type": "display_data"
    },
    {
     "data": {
      "text/html": [
       "<pre style=\"white-space:pre;overflow-x:auto;line-height:normal;font-family:Menlo,'DejaVu Sans Mono',consolas,'Courier New',monospace\">Requirement already satisfied: pure-eval in c:\\users\\no_ne\\desktop\\git-repo\\.venv\\lib\\site-packages (from stack_data-&gt;IPython) (0.2.3)\n",
       "</pre>\n"
      ],
      "text/plain": [
       "Requirement already satisfied: pure-eval in c:\\users\\no_ne\\desktop\\git-repo\\.venv\\lib\\site-packages (from stack_data->IPython) (0.2.3)\n"
      ]
     },
     "metadata": {},
     "output_type": "display_data"
    },
    {
     "data": {
      "text/html": [
       "<pre style=\"white-space:pre;overflow-x:auto;line-height:normal;font-family:Menlo,'DejaVu Sans Mono',consolas,'Courier New',monospace\">Requirement already satisfied: six&gt;=1.12.0 in c:\\users\\no_ne\\desktop\\git-repo\\.venv\\lib\\site-packages (from asttokens&gt;=2.1.0-&gt;stack_data-&gt;IPython) (1.16.0)\n",
       "</pre>\n"
      ],
      "text/plain": [
       "Requirement already satisfied: six>=1.12.0 in c:\\users\\no_ne\\desktop\\git-repo\\.venv\\lib\\site-packages (from asttokens>=2.1.0->stack_data->IPython) (1.16.0)\n"
      ]
     },
     "metadata": {},
     "output_type": "display_data"
    },
    {
     "data": {
      "text/html": [
       "<pre style=\"white-space:pre;overflow-x:auto;line-height:normal;font-family:Menlo,'DejaVu Sans Mono',consolas,'Courier New',monospace\">Downloading ipython-8.32.0-py3-none-any.whl (825 kB)\n",
       "</pre>\n"
      ],
      "text/plain": [
       "Downloading ipython-8.32.0-py3-none-any.whl (825 kB)\n"
      ]
     },
     "metadata": {},
     "output_type": "display_data"
    },
    {
     "data": {
      "application/vnd.jupyter.widget-view+json": {
       "model_id": "128d5139a53a4df188862733657c3c19",
       "version_major": 2,
       "version_minor": 0
      },
      "text/plain": [
       "Output()"
      ]
     },
     "metadata": {},
     "output_type": "display_data"
    },
    {
     "data": {
      "text/html": [
       "<pre style=\"white-space:pre;overflow-x:auto;line-height:normal;font-family:Menlo,'DejaVu Sans Mono',consolas,'Courier New',monospace\"></pre>\n"
      ],
      "text/plain": []
     },
     "metadata": {},
     "output_type": "display_data"
    },
    {
     "data": {
      "text/html": [
       "<pre style=\"white-space:pre;overflow-x:auto;line-height:normal;font-family:Menlo,'DejaVu Sans Mono',consolas,'Courier New',monospace\">\n",
       "</pre>\n"
      ],
      "text/plain": [
       "\n"
      ]
     },
     "metadata": {},
     "output_type": "display_data"
    },
    {
     "data": {
      "text/html": [
       "<pre style=\"white-space:pre;overflow-x:auto;line-height:normal;font-family:Menlo,'DejaVu Sans Mono',consolas,'Courier New',monospace\">Installing collected packages: IPython\n",
       "</pre>\n"
      ],
      "text/plain": [
       "Installing collected packages: IPython\n"
      ]
     },
     "metadata": {},
     "output_type": "display_data"
    },
    {
     "data": {
      "text/html": [
       "<pre style=\"white-space:pre;overflow-x:auto;line-height:normal;font-family:Menlo,'DejaVu Sans Mono',consolas,'Courier New',monospace\">  Attempting uninstall: IPython\n",
       "</pre>\n"
      ],
      "text/plain": [
       "  Attempting uninstall: IPython\n"
      ]
     },
     "metadata": {},
     "output_type": "display_data"
    },
    {
     "data": {
      "text/html": [
       "<pre style=\"white-space:pre;overflow-x:auto;line-height:normal;font-family:Menlo,'DejaVu Sans Mono',consolas,'Courier New',monospace\">    Found existing installation: ipython 8.28.0\n",
       "</pre>\n"
      ],
      "text/plain": [
       "    Found existing installation: ipython 8.28.0\n"
      ]
     },
     "metadata": {},
     "output_type": "display_data"
    },
    {
     "data": {
      "text/html": [
       "<pre style=\"white-space:pre;overflow-x:auto;line-height:normal;font-family:Menlo,'DejaVu Sans Mono',consolas,'Courier New',monospace\">    Uninstalling ipython-8.28.0:\n",
       "</pre>\n"
      ],
      "text/plain": [
       "    Uninstalling ipython-8.28.0:\n"
      ]
     },
     "metadata": {},
     "output_type": "display_data"
    },
    {
     "data": {
      "text/html": [
       "<pre style=\"white-space:pre;overflow-x:auto;line-height:normal;font-family:Menlo,'DejaVu Sans Mono',consolas,'Courier New',monospace\">      Successfully uninstalled ipython-8.28.0\n",
       "</pre>\n"
      ],
      "text/plain": [
       "      Successfully uninstalled ipython-8.28.0\n"
      ]
     },
     "metadata": {},
     "output_type": "display_data"
    },
    {
     "data": {
      "text/html": [
       "<pre style=\"white-space:pre;overflow-x:auto;line-height:normal;font-family:Menlo,'DejaVu Sans Mono',consolas,'Courier New',monospace\">Successfully installed IPython-8.32.0\n",
       "</pre>\n"
      ],
      "text/plain": [
       "Successfully installed IPython-8.32.0\n"
      ]
     },
     "metadata": {},
     "output_type": "display_data"
    },
    {
     "data": {
      "text/html": [
       "<pre style=\"white-space:pre;overflow-x:auto;line-height:normal;font-family:Menlo,'DejaVu Sans Mono',consolas,'Courier New',monospace\">\n",
       "<span style=\"font-weight: bold\">[</span><span style=\"color: #000080; text-decoration-color: #000080; background-color: #ffffff\">notice</span><span style=\"color: #000000; text-decoration-color: #000000; background-color: #ffffff; font-weight: bold\">]</span><span style=\"color: #000000; text-decoration-color: #000000; background-color: #ffffff\"> A new release of pip is available: </span><span style=\"color: #800000; text-decoration-color: #800000; background-color: #ffffff\">24.2</span><span style=\"color: #000000; text-decoration-color: #000000; background-color: #ffffff\"> -&gt; </span><span style=\"color: #008000; text-decoration-color: #008000; background-color: #ffffff\">25.0</span>\n",
       "<span style=\"font-weight: bold\">[</span><span style=\"color: #000080; text-decoration-color: #000080; background-color: #ffffff\">notice</span><span style=\"color: #000000; text-decoration-color: #000000; background-color: #ffffff; font-weight: bold\">]</span><span style=\"color: #000000; text-decoration-color: #000000; background-color: #ffffff\"> To update, run: </span><span style=\"color: #008000; text-decoration-color: #008000; background-color: #ffffff\">python.exe -m pip install --upgrade pip</span>\n",
       "</pre>\n"
      ],
      "text/plain": [
       "\n",
       "\u001b[1m[\u001b[0m\u001b[34;49mnotice\u001b[0m\u001b[1;39;49m]\u001b[0m\u001b[39;49m A new release of pip is available: \u001b[0m\u001b[31;49m24.2\u001b[0m\u001b[39;49m -> \u001b[0m\u001b[32;49m25.0\u001b[0m\n",
       "\u001b[1m[\u001b[0m\u001b[34;49mnotice\u001b[0m\u001b[1;39;49m]\u001b[0m\u001b[39;49m To update, run: \u001b[0m\u001b[32;49mpython.exe -m pip install --upgrade pip\u001b[0m\n"
      ]
     },
     "metadata": {},
     "output_type": "display_data"
    },
    {
     "data": {
      "text/plain": [
       "0"
      ]
     },
     "execution_count": 2,
     "metadata": {},
     "output_type": "execute_result"
    }
   ],
   "source": [
    "import pip\n",
    "pip.main([\"install\",\"IPython\",\"ipywidgets\",\"--break-system-packages\",\"--upgrade\",\"--root-user-action=ignore\"])"
   ]
  },
  {
   "cell_type": "code",
   "execution_count": 3,
   "id": "fa25e78d-08e3-48df-9ce2-4ab1187055b0",
   "metadata": {
    "editable": true,
    "slideshow": {
     "slide_type": ""
    },
    "tags": [
     "hide-input"
    ]
   },
   "outputs": [
    {
     "data": {
      "application/vnd.jupyter.widget-view+json": {
       "model_id": "56c09f7866994345b01ffa0f905a638e",
       "version_major": 2,
       "version_minor": 0
      },
      "text/plain": [
       "VBox(children=(Text(value='', placeholder='Detection Title'), Textarea(value='', placeholder='Goals'), Textare…"
      ]
     },
     "execution_count": 3,
     "metadata": {},
     "output_type": "execute_result"
    }
   ],
   "source": [
    "from IPython.display import display, Markdown\n",
    "from ipywidgets import interact, widgets, HTML\n",
    "import base64\n",
    "\n",
    "title=widgets.Text(value='', placeholder='Detection Title', description='')\n",
    "goal=widgets.Textarea(value='', placeholder='Goals', description='')\n",
    "cat=widgets.Textarea(value='', placeholder='Category', description='')\n",
    "abstract=widgets.Textarea(value='', placeholder='Abstract / Overview', description='')\n",
    "tech=widgets.Textarea(value='', placeholder='Technical Details', description='')\n",
    "rules=widgets.Textarea(value='', placeholder='Detection Rules (Yara/Sigma/Etc...)', description='')\n",
    "blind=widgets.Textarea(value='', placeholder='Blind Spots', description='')\n",
    "false=widgets.Textarea(value='', placeholder='Known False Positive Events', description='')\n",
    "priority=widgets.Textarea(value='', placeholder='Priority for responders', description='')\n",
    "validation=widgets.Textarea(value='', placeholder='Validation Mechanisms', description='')\n",
    "response=widgets.Textarea(value='', placeholder='Response Techniques', description='')\n",
    "additional=widgets.Textarea(value='', placeholder='Additional Info/Resources/Links', description='')\n",
    "out = widgets.Output()\n",
    "submit_button = widgets.Button(description='submit')\n",
    "\n",
    "def submit(button):\n",
    "    template=\"\"\"# Table of contents\n",
    "1. [Goals](#goals)\n",
    "2. [Categorization](#cat)\n",
    "3. [Strategy Abstract](#abstract)\n",
    "4. [Technical Context](#context)\n",
    "    1. [Sigma/Yara Rules](#rules)\n",
    "6. [Blind Spots & Assumptions](#blind)\n",
    "7. [False Positives](#false)\n",
    "8. [Priority](#priority)\n",
    "9. [Validation](#validation)\n",
    "10. [Response](#response)\n",
    "11. [Additional Resources](#additional)\n",
    "\n",
    "# Detection: {title} <a name=\"detection\"></a>\n",
    "## Goal <a name=\"goals\"></a>\n",
    "{goal}\n",
    "## Categorization <a name=\"cat\"></a>\n",
    "{cat}\n",
    "## Strategy Abstract <a name=\"abstract\"></a>\n",
    "{abstract}\n",
    "## Technical Context <a name=\"context\"></a>\n",
    "{tech}\n",
    "### Sigma/Yara Rules <a name=\"rules\"></a>\n",
    "{rules}\n",
    "## Blind Spots & Assumptions <a name=\"blind\"></a>\n",
    "{blind}\n",
    "## False Positives <a name=\"false\"></a>\n",
    "{false}\n",
    "## Priority <a name=\"priority\"></a>\n",
    "{priority}\n",
    "## Validation <a name=\"validation\"></a>\n",
    "{validation}\n",
    "## Response <a name=\"response\"></a>\n",
    "{response}\n",
    "## Additional Resources <a name=\"additional\"></a>\n",
    "{additional}\n",
    "\"\"\".format(title=title.value,goal=goal.value,cat=cat.value,abstract=abstract.value,tech=tech.value,rules=rules.value, blind=blind.value, false=false.value,priority=priority.value,validation=validation.value,response=response.value,additional=additional.value)\n",
    "    out.clear_output()\n",
    "    with out:\n",
    "        display(Markdown(template))\n",
    "        filename = 'detection.md'\n",
    "        b64 = base64.b64encode(template.encode())\n",
    "        payload = b64.decode()\n",
    "        html_buttons = '''<html>\n",
    "<head>\n",
    "<meta name=\"viewport\" content=\"width=device-width, initial-scale=1\">\n",
    "</head>\n",
    "<body>\n",
    "<a download=\"{filename}\" href=\"data:text/csv;base64,{payload}\" download>\n",
    "<button class=\"p-Widget jupyter-widgets jupyter-button widget-button mod-warning\">Download File</button>\n",
    "</a>\n",
    "</body>\n",
    "</html>\n",
    "'''\n",
    "        html_button = html_buttons.format(payload=payload,filename=filename)\n",
    "        display(HTML(html_button))\n",
    "        #open('tmp-detection.md','w').write(template)\n",
    "        #display('File written to temp')\n",
    "        submit_button.on_click(submit)\n",
    "\n",
    "widgets.VBox([title,goal,cat,abstract,tech,rules,blind,false,priority,validation,response,additional, submit_button, out])"
   ]
  },
  {
   "cell_type": "code",
   "execution_count": null,
   "id": "96c310ce-6784-4f9f-87dd-685363e61523",
   "metadata": {},
   "outputs": [],
   "source": []
  }
 ],
 "metadata": {
  "kernelspec": {
   "display_name": ".venv",
   "language": "python",
   "name": "python3"
  },
  "language_info": {
   "codemirror_mode": {
    "name": "ipython",
    "version": 3
   },
   "file_extension": ".py",
   "mimetype": "text/x-python",
   "name": "python",
   "nbconvert_exporter": "python",
   "pygments_lexer": "ipython3",
   "version": "3.12.8"
  }
 },
 "nbformat": 4,
 "nbformat_minor": 5
}
